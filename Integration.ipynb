{
 "cells": [
  {
   "cell_type": "code",
   "execution_count": 2,
   "id": "909b7ddb",
   "metadata": {},
   "outputs": [],
   "source": [
    "#Bitte ausführen, damit alles Notwendige importiert wird\n",
    "#Note: Bei Änderungen der zugrundeliegenden Python-Files muss Jupyter neugestartet werden\n",
    "import scipro"
   ]
  },
  {
   "cell_type": "code",
   "execution_count": 3,
   "id": "3391cae4",
   "metadata": {},
   "outputs": [
    {
     "data": {
      "text/html": [
       "<!--Bitte diese Cell mit Run ausführen, damit die Styles geladen werden-->\n",
       "<!--Bei Änderungen des CSS muss das Notebook im Browser neu geladen werden-->\n",
       "<link rel=\"stylesheet\" href=\"./styles/sciprolab.css\">\n"
      ],
      "text/plain": [
       "<IPython.core.display.HTML object>"
      ]
     },
     "metadata": {},
     "output_type": "display_data"
    }
   ],
   "source": [
    "%%html\n",
    "<!--Bitte diese Cell mit Run ausführen, damit die Styles geladen werden-->\n",
    "<!--Bei Änderungen des CSS muss das Notebook im Browser neu geladen werden-->\n",
    "<link rel=\"stylesheet\" href=\"./styles/sciprolab.css\">"
   ]
  },
  {
   "cell_type": "markdown",
   "id": "7add3813",
   "metadata": {},
   "source": [
    "# SPL-Programmentwurf"
   ]
  },
  {
   "cell_type": "markdown",
   "id": "babb3c43",
   "metadata": {},
   "source": [
    "## Gruppe\n"
   ]
  },
  {
   "cell_type": "markdown",
   "id": "7b457b53",
   "metadata": {},
   "source": [
    "## Teil 1: Riemann Integrale mit Ober- und Untersummen, Trapezregel"
   ]
  },
  {
   "cell_type": "markdown",
   "id": "b24b7f9c",
   "metadata": {},
   "source": [
    "## Teil 2: Integration mittels Monte-Carlo-Simulation"
   ]
  },
  {
   "cell_type": "markdown",
   "id": "260b44b3",
   "metadata": {},
   "source": [
    "## Teil 3: Darstellung der Integrationsmethoden"
   ]
  },
  {
   "cell_type": "markdown",
   "id": "51d5b0a2",
   "metadata": {},
   "source": [
    "## Teil 4: Test der numerischen Integration"
   ]
  },
  {
   "cell_type": "markdown",
   "id": "deed7f80",
   "metadata": {},
   "source": [
    "## Teil 5: Grenzen numerischer Integration"
   ]
  },
  {
   "cell_type": "code",
   "execution_count": 10,
   "id": "95724466",
   "metadata": {},
   "outputs": [
    {
     "data": {
      "text/html": [
       "\n",
       "\n",
       "<h2>Quellen</h2>\n",
       "\n",
       "</div><!-- insert bibtex2hteml output here -->\n",
       "\n",
       "\t<p><a name=\"sundnes2020introduction\"></a>\n",
       "\n",
       "\tJoakim Sundnes.\n",
       "\t <em>Introduction to scientific programming with Python</em>.\n",
       "\t Springer Nature, 2020.\n",
       "\t[&nbsp;<a href=\"https://library.oapen.org/handle/20.500.12657/39979\">https://library.oapen.org/handle/20.500.12657/39979</a>&nbsp;]\n",
       "\n",
       "\t</p>\n",
       "\n",
       "\t<p><a name=\"linge2020programming\"></a>\n",
       "\n",
       "\tSvein Linge and Hans&nbsp;Petter Langtangen.\n",
       "\t <em>Programming for computations-Python: A gentle introduction to\n",
       "\t  numerical simulations with Python 3.6</em>.\n",
       "\t Springer Nature, 2020.\n",
       "\t[&nbsp;<a href=\"https://library.oapen.org/handle/20.500.12657/23103\">https://library.oapen.org/handle/20.500.12657/23103</a>&nbsp;]\n",
       "\n",
       "\t</p>\n",
       "\n",
       "\t<p><a name=\"weitz2021konkrete\"></a>\n",
       "\n",
       "\tEdmund Weitz.\n",
       "\t <em>Konkrete Mathematik (nicht nur) f&uuml;r Informatiker</em>.\n",
       "\t Springer, 2021.\n",
       "\t[&nbsp;<a href=\"https://link.springer.com/book/10.1007/978-3-662-62618-4\">https://link.springer.com/book/10.1007/978-3-662-62618-4</a>&nbsp;]\n",
       "\n",
       "\t</p>\n",
       "\n",
       "\n",
       "\t<p><a name=\"arensMathematik2022\"></a>\n",
       "\n",
       "\tTilo Arens, Frank Hettlich, Christian Karpfinger, Ulrich Kockelkorn, Klaus\n",
       "\t  Lichtenegger, and Hellmuth Stachel.\n",
       "\t <em>Mathematik</em>.\n",
       "\t Springer Spektrum Berlin, Heidelberg, Heidelberg, 5 edition, October\n",
       "\t  2022.\n",
       "\t[&nbsp;<a href=\"https://link.springer.com/book/10.1007/978-3-662-64389-1\">https://link.springer.com/book/10.1007/978-3-662-64389-1</a>&nbsp;]\n",
       "\t</p>\n",
       "\n",
       "\t<p><a name=\"papulaMathematikFuerIngenieure2024BdIII\"></a>\n",
       "\n",
       "\tLothar Papula.\n",
       "\t <em>Mathematik für Ingenieure und Naturwissenschaftler Band\n",
       "\t  3: Vektoranalysis, Wahrscheinlichkeitsrechnung, Mathematische\n",
       "\t  Statistik, Fehler- und Ausgleichsrechnung</em>, volume&nbsp;3 of <em>Mathematik\n",
       "\t  für Ingenieure und Naturwissenschaftler</em>.\n",
       "\t Springer Vieweg Wiesbaden, Wiesbaden, October 2024.\n",
       "\t[&nbsp;<a href=\"https://link.springer.com/book/10.1007/978-3-658-45804-1\">https://link.springer.com/book/10.1007/978-3-658-45804-1</a>&nbsp;]\n",
       "\n",
       "\t</p>\n",
       "\n",
       "<p><a name=\"arensMathematik2022\"></a>\n",
       "\n",
       "Tilo Arens, Frank Hettlich, Christian Karpfinger, Ulrich Kockelkorn, Klaus\n",
       "  Lichtenegger, and Hellmuth Stachel.\n",
       " <em>Mathematik</em>.\n",
       " Springer Spektrum Berlin, Heidelberg, Heidelberg, 5 edition, October\n",
       "  2022.\n",
       "[&nbsp;<a href=\"https://link.springer.com/book/10.1007/978-3-662-64389-1\">https://link.springer.com/book/10.1007/978-3-662-64389-1</a>&nbsp;]\n",
       "\n",
       "</p>\n",
       "\n",
       "<p><a name=\"papulaMathematikFuerIngenieure2024BdIII\"></a>\n",
       "\n",
       "Lothar Papula.\n",
       " <em>Mathematik für Ingenieure und Naturwissenschaftler Band\n",
       "  3: Vektoranalysis, Wahrscheinlichkeitsrechnung, Mathematische\n",
       "  Statistik, Fehler- und Ausgleichsrechnung</em>, volume&nbsp;3 of <em>Mathematik\n",
       "  für Ingenieure und Naturwissenschaftler</em>.\n",
       " Springer Vieweg Wiesbaden, Wiesbaden, October 2024.\n",
       "[&nbsp;<a href=\"https://link.springer.com/book/10.1007/978-3-658-45804-1\">https://link.springer.com/book/10.1007/978-3-658-45804-1</a>&nbsp;]\n",
       "\n",
       "</p>\n",
       "</body>\n",
       "\n",
       "\n",
       "</div>"
      ],
      "text/plain": [
       "<IPython.core.display.HTML object>"
      ]
     },
     "execution_count": 10,
     "metadata": {},
     "output_type": "execute_result"
    }
   ],
   "source": [
    "#Ausführen, um den aktuellen Footer anzuzeigen\n",
    "from IPython.display import HTML\n",
    "HTML(filename='files/footer.html')"
   ]
  }
 ],
 "metadata": {
  "kernelspec": {
   "display_name": "Python 3.10 (venv310)",
   "language": "python",
   "name": "venv310"
  },
  "language_info": {
   "codemirror_mode": {
    "name": "ipython",
    "version": 3
   },
   "file_extension": ".py",
   "mimetype": "text/x-python",
   "name": "python",
   "nbconvert_exporter": "python",
   "pygments_lexer": "ipython3",
   "version": "3.12.3"
  }
 },
 "nbformat": 4,
 "nbformat_minor": 5
}
