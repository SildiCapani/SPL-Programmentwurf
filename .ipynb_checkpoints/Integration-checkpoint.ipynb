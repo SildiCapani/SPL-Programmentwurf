{
 "cells": [
  {
   "cell_type": "code",
   "execution_count": 2,
   "id": "909b7ddb",
   "metadata": {},
   "outputs": [],
   "source": [
    "#Bitte ausführen, damit alles Notwendige importiert wird\n",
    "#Note: Bei Änderungen der zugrundeliegenden Python-Files muss Jupyter neugestartet werden\n",
    "import scipro"
   ]
  },
  {
   "cell_type": "code",
   "execution_count": 3,
   "id": "3391cae4",
   "metadata": {},
   "outputs": [
    {
     "data": {
      "text/html": [
       "<!--Bitte diese Cell mit Run ausführen, damit die Styles geladen werden-->\n",
       "<!--Bei Änderungen des CSS muss das Notebook im Browser neu geladen werden-->\n",
       "<link rel=\"stylesheet\" href=\"./styles/sciprolab.css\">\n"
      ],
      "text/plain": [
       "<IPython.core.display.HTML object>"
      ]
     },
     "metadata": {},
     "output_type": "display_data"
    }
   ],
   "source": [
    "%%html\n",
    "<!--Bitte diese Cell mit Run ausführen, damit die Styles geladen werden-->\n",
    "<!--Bei Änderungen des CSS muss das Notebook im Browser neu geladen werden-->\n",
    "<link rel=\"stylesheet\" href=\"./styles/sciprolab.css\">"
   ]
  },
  {
   "cell_type": "markdown",
   "id": "7add3813",
   "metadata": {},
   "source": [
    "# SPL-Programmentwurf"
   ]
  },
  {
   "cell_type": "markdown",
   "id": "babb3c43",
   "metadata": {},
   "source": [
    "## Gruppe\n"
   ]
  },
  {
   "cell_type": "markdown",
   "id": "7b457b53",
   "metadata": {},
   "source": [
    "## Teil 1: Riemann Integrale mit Ober- und Untersummen, Trapezregel\n",
    "<img src=\"images/riemann.png\" width=\"400\" style=\"background-color:white; padding:10px;\">\n",
    "\n",
    "Das Riemannsche Integral ist eine Methode, um die Fläche unter einer Kurve mathematisch zu bestimmen. Der Name kommt von dem deutschen Mathematiker Bernhard Riemann, der das Konzept im 19. Jahrhundert formalisiert hat. Troz seiner Grenzen ist das Riemann-Integral für viele Anwendungen ausreichend. Allerdings gibt es auch Funktionen die man mit dem Riemann-Integral nicht integrieren kann, sie aber gerne integrienen würde. So wurden nach und nach weitere Integraldefinitionen eingeführt, mit denen mehr Funktionen integrierbar sind. "
   ]
  },
  {
   "cell_type": "markdown",
   "id": "0a2720fe",
   "metadata": {},
   "source": [
    "### Grundidee\n",
    "<img src=\"images/riemann_integral.png\" width=\"600\" style=\"background-color:white; padding:10px;\">\n",
    "\n",
    "Die Grundidee ist, dass ein Intervall [a,b], über das integriert werden soll, in viele kleine Teilintervalle zu zerlegen. Über jedem dieser Teilintervalle wird ein Rechteck errichtet, dessen Breite die Intervalllänge ist und dessen Höhe durch den Funktionswert an einer bestimmten Stelle im Teilintervall bestimmt wird. Die Summe dieser Rechteckflächen nähert sich an die Fläche unter der Kurve an.  \n",
    "Dementsprechend folgt aus einer feineren Zerlegung des Intervals eine genauere Approximation. \n",
    "Im Grenzfall, also wenn die Breite der Teilintervalle gegen Null geht, konvergiert diese Summe gegen das Riemann-Integral. Das Riemann-Integrall bezeichnet dabei den Grenzwert der unendlichen Summe.\n",
    "\n",
    "Das $\\int$ Zeichen wurde von Leibniz eingeführt und ist die kursive Variante des \"langen s\", welches heute nicht mehr gebräuchlicht ist und als Abkürzung für das lateinische Wort summa stand. \n",
    "\n",
    "#### Ober- und Untersummen  \n",
    "Mittels der Ober- und der Untersumme bekommt man eine obere und untere Abschätzung für die wahre Fläche.\n",
    "\n",
    "Bei der Obersumme nutzt man die größte Höhe der Funktion im Teilintervall → die Rechtecke überdecken die Kurve teilweise.\n",
    "\n",
    "<img src=\"images/obersumme.png\" width=\"400\" style=\"background-color:white; padding:10px;\">\n",
    "\n",
    "Bei der Untersumme nutzt man jeweils die kleinste Höhe der Funktion im Teilintervall → die Rechtecke liegen komplett unter der Kurve.\n",
    "\n",
    "<img src=\"images/untersumme.png\" width=\"400\" style=\"background-color:white; padding:10px;\">\n",
    "\n",
    "Je kleiner die Teilintervalle werden, desto kleiner ist die Differenz zwischen Ober- und Untersumme.\n",
    "\n",
    "#### Trapezregel  \n",
    "Hier nehmen wir statt Rechtecken Trapeze, die den Kurvenverlauf besser nachbilden. So ist die Näherung oft genauer als bei Rechtecken.  \n",
    "Zwischen jedem benachbarten Punkt auf der Kurve ziehen wir eine Gerade und berechnen die Fläche des entstehenden Trapezes. Nachdem wir das für jedes Intervall gemacht haben zählen wir die Flächen aller Trapeze zusammen.\n",
    "\n",
    "<img src=\"images/trapezregel.png\" width=\"400\" style=\"background-color:white; padding:10px;\">\n"
   ]
  },
  {
   "cell_type": "markdown",
   "id": "9994418b",
   "metadata": {},
   "source": [
    "### Mathematische Definition\n",
    "\n",
    "Sei  $\n",
    "f : [a,b] \\to \\mathbb{R}\n",
    "$  eine beschränkte Funktion und [a,b] ein abgeschlossenes Intervall.\n",
    "\n",
    "1. Zerlege das Intervall in  n  Teilintervalle:\n",
    "\n",
    "$$\n",
    "a = x_0 < x_1 < x_2 < \\dots < x_n = b\n",
    "$$\n",
    "\n",
    "2. Wähle für jedes Teilintervall [x<sub>i-1</sub>, x<sub>i</sub>] einen beliebigen Punkt c<sub>i</sub> aus dem Intervall.\n",
    "\n",
    "3. Die Riemann-Summe lautet:\n",
    "\n",
    "$$\n",
    "S_n = \\sum_{i=1}^{n} f(c_i) \\cdot (x_i - x_{i-1})\n",
    "$$\n",
    "\n",
    "4. Das Riemann-Integral von f über [a,b] ist definiert als Grenzwert dieser Summe, wenn die maximale Länge der Teilintervalle ||P|| gegen Null geht:\n",
    "\n",
    "$$\n",
    "\\int_a^b f(x) \\, dx = \\lim_{||P|| \\to 0} \\sum_{i=1}^{n} f(c_i) \\cdot (x_i - x_{i-1})\n",
    "$$\n",
    "\n",
    "---\n",
    "\n",
    "#### Ober- und Untersumme\n",
    "\n",
    "c<sub>i</sub> ist bei der **Obersumme** der x-Wert an der Stelle, wo die Funktion im Teilintervall am höchsten ist. \n",
    "$$\n",
    "O(f, P) = \\sum_{i=1}^{n} M_i \\cdot (x_i - x_{i-1})\n",
    "$$\n",
    "mit\n",
    "$$\n",
    "M_i = \\max \\{ f(x) \\mid x \\in [x_{i-1}, x_i] \\}\n",
    "$$\n",
    "Bei der **Untersumme** ist c<sub>i</sub>  der x-Wert an der Stelle, wo die Funktion im Teilintervall am kleinsten ist.\n",
    "$$\n",
    "U(f, P) = \\sum_{i=1}^{n} m_i \\cdot (x_i - x_{i-1})\n",
    "$$\n",
    "mit\n",
    "$$\n",
    "m_i = \\min \\{ f(x) \\mid x \\in [x_{i-1}, x_i] \\}\n",
    "$$\n",
    "\n",
    "---\n",
    "\n",
    "#### Trapezregel\n",
    "$$\n",
    "\\int_a^b f(x) \\, dx  \\approx  {h} \\left[ \\frac{1}{2}f(x_0) + \\sum_{i=1}^{n-1} f(x_i) + f(x_n) \\right]\n",
    "$$\n",
    "\n",
    "Dabei ist:\n",
    "\n",
    "- a und b die Grenzen des Integrals,\n",
    "- n die Anzahl der Teilintervalle,\n",
    "- $\n",
    "x_i = a + i \\cdot h \\quad \\text{mit} \\quad h = \\frac{b - a}{n}\n",
    "$\n",
    " .\n"
   ]
  },
  {
   "cell_type": "markdown",
   "id": "b24b7f9c",
   "metadata": {},
   "source": [
    "## Teil 2: Integration mittels Monte-Carlo-Simulation"
   ]
  },
  {
   "cell_type": "markdown",
   "id": "260b44b3",
   "metadata": {},
   "source": [
    "## Teil 3: Darstellung der Integrationsmethoden"
   ]
  },
  {
   "cell_type": "markdown",
   "id": "51d5b0a2",
   "metadata": {},
   "source": [
    "## Teil 4: Test der numerischen Integration"
   ]
  },
  {
   "cell_type": "markdown",
   "id": "deed7f80",
   "metadata": {},
   "source": [
    "## Teil 5: Grenzen numerischer Integration"
   ]
  },
  {
   "cell_type": "markdown",
   "id": "b6e931a0",
   "metadata": {},
   "source": [
    "Nicht jede Funktion ist Riemann-integrierbar. Ein Beispiel dafür ist die Dirichlet-Funktion, die für rationale Zahlen 0 und für irrationale 1 ist.\n",
    "$$\n",
    "D\\colon ℝ \\to ℝ,\\quad x\\mapsto D(x)=\\begin{cases} 1, & \\mbox{wenn }x\\mbox{ rational,} \\\\ 0, & \\mbox{wenn }x\\mbox{ irrational.} \\end{cases}\n",
    "$$\n",
    "<img src=\"images/dirichlet.png\" width=\"300\" style=\"background-color:white; padding:10px\">\n",
    "\n",
    "Diese Funktion ist nicht Riemann-integrierbar, weil sie auf keinem Teilintervall ein konstantes Verhalten zeigt. In jedem noch so kleinen Intervall wechseln sich die Funktionswerte null und eins unendlich oft ab. Je nachdem wie man die Intervalle zerlegt kommen unterschiedliche Ergebnisse für die Fläche (soweit hier eine Fläche überhaupt Sinn macht) heraus.\n",
    "Bei Funktionen, die integrierbar sind, muss jede zulässige Folge von Zerlegungen der Intervalle gegen das Integral konvergieren.\n",
    "\n",
    "### Bedingungen für Riemann-Integrierbarkeit\n",
    "\n",
    "1. Die Funktion muss auf [a,b] beschränkt sein\n",
    "    - Es muss eine Zahl M existieren, sodass für alle x ∈ [a,b] gilt:\n",
    "      $$\n",
    "      ∣f(x)∣≤M\n",
    "      $$ \n",
    "    - Ohne diese Beschränktheit würde die Fläche unter der Kurve unendlich groß oder undefiniert werden.\n",
    "2. Die Funktion darf nur \"wenige\" Unstetigkeitsstellen haben\n",
    "    - Die Menge der Unstetigkeiten muss ein Nullmaß haben, also z.B. abzählbar unendlich oder endlich viele Punkte\n",
    "    - z.B. Eine Funktion, die nur an endlich vielen Stellen springt (z.B. eine Treppenfunktion), ist trotzdem Riemann-integrierbar\n",
    "    <img src=\"images/treppenfunktion.png\" width=\"400\" style=\"background-color:white; padding:10px\">\n",
    "3. Stetigkeit auf [a,b] garantiert Riemann-Integrierbarkeit\n",
    "   - Jede Funktion die auf einem abgeschlossenen Intervall [a,b] stetig ist, ist auf diesem auch Riemann-integrierbar.\n",
    "4. Bei Funktionen, die integrierbar sind, muss jede zulässige Folge von Zerlegungen der Intervalle gegen das Integral konvergieren\n"
   ]
  },
  {
   "cell_type": "code",
   "execution_count": 12,
   "id": "95724466",
   "metadata": {},
   "outputs": [
    {
     "data": {
      "text/html": [
       "\n",
       "\n",
       "<h2>Quellen</h2>\n",
       "\n",
       "</div><!-- insert bibtex2hteml output here -->\n",
       "\n",
       "\t<p><a name=\"weitz2021konkrete\"></a>\n",
       "\n",
       "\tEdmund Weitz.\n",
       "\t <em>Konkrete Mathematik (nicht nur) f&uuml;r Informatiker</em>.\n",
       "\t Springer, 2021.\n",
       "\t[&nbsp;<a href=\"https://link.springer.com/book/10.1007/978-3-662-62618-4\">https://link.springer.com/book/10.1007/978-3-662-62618-4</a>&nbsp;]\n",
       "\n",
       "\t</p>\n",
       "\n",
       "\t<p><a name=\"linge2020programming\"></a>\n",
       "\n",
       "\tSvein Linge and Hans&nbsp;Petter Langtangen.\n",
       "\t <em>Programming for computations-Python: A gentle introduction to\n",
       "\t  numerical simulations with Python 3.6</em>.\n",
       "\t Springer Nature, 2020.\n",
       "\t[&nbsp;<a href=\"https://library.oapen.org/handle/20.500.12657/23103\">https://library.oapen.org/handle/20.500.12657/23103</a>&nbsp;]\n",
       "\n",
       "\t</p>\n",
       "\n",
       "\n",
       "\t<p><a name=\"arensMathematik2022\"></a>\n",
       "\n",
       "\tTilo Arens, Frank Hettlich, Christian Karpfinger, Ulrich Kockelkorn, Klaus\n",
       "\t  Lichtenegger, and Hellmuth Stachel.\n",
       "\t <em>Mathematik</em>.\n",
       "\t Springer Spektrum Berlin, Heidelberg, Heidelberg, 5 edition, October\n",
       "\t  2022.\n",
       "\t[&nbsp;<a href=\"https://link.springer.com/book/10.1007/978-3-662-64389-1\">https://link.springer.com/book/10.1007/978-3-662-64389-1</a>&nbsp;]\n",
       "\t</p>\n",
       "\n",
       "\n",
       "</div>\n",
       "\n",
       "<h2>Bild-Quellen</h2>\n",
       "\n",
       "</div>\n",
       "\n",
       "\t<p><a name=\"riemann.png\"></a>\n",
       "\t <em>riemann.png</em>.\n",
       "\t Einsicht: 26.06.2025\n",
       "\t[&nbsp;<a href=\"https://www.mathematik.de/dmv-blog/5166-200-jahre-riemann-2026\">https://www.mathematik.de/dmv-blog/5166-200-jahre-riemann-2026</a>&nbsp;]\n",
       "\n",
       "\n",
       "\t<p><a name=\"riemann_integral.png\"></a>\n",
       "\t <em>riemann-integral.png</em>.\n",
       "\t Einsicht: 26.06.2025\n",
       "\t[&nbsp;<a href=\"https://testbook.com/maths/riemann-integral\">https://testbook.com/maths/riemann-integral</a>&nbsp;]\n",
       "\n",
       "\t<p><a name=\"obersumme.png\"></a>\n",
       "\t <em>obersumme.png</em>.\n",
       "\t Einsicht: 26.06.2025\n",
       "\t[&nbsp;<a href=\"https://de.serlo.org/mathe/2059/ober-und-untersumme\">https://de.serlo.org/mathe/2059/ober-und-untersumme</a>&nbsp;]\n",
       "\n",
       "\t<p><a name=\"untersumme.png\"></a>\n",
       "\t <em>untersumme.png</em>.\n",
       "\t Einsicht: 26.06.2025\n",
       "\t[&nbsp;<a href=\"https://de.serlo.org/mathe/2059/ober-und-untersumme\">https://de.serlo.org/mathe/2059/ober-und-untersumme</a>&nbsp;]\n",
       "\n",
       "\t<p><a name=\"trapezregel.png\"></a>\n",
       "\t <em>trapezregel.png</em>.\n",
       "\t Einsicht: 26.06.2025\n",
       "\t[&nbsp;<a href=\"https://de.serlo.org/mathe/2059/ober-und-untersumme\">https://de.serlo.org/mathe/2059/ober-und-untersumme</a>&nbsp;]\n",
       "\n",
       "\t<p><a name=\"dirichlet.png\"></a>\n",
       "\t <em>dirichlet.png</em>.\n",
       "\t Einsicht: 26.06.2025\n",
       "\t[&nbsp;<a href=\"https://de.wikipedia.org/wiki/Dirichlet-Funktion\">https://de.wikipedia.org/wiki/Dirichlet-Funktion</a>&nbsp;]\n",
       "</body>\n",
       "\n",
       "\n",
       "</div>"
      ],
      "text/plain": [
       "<IPython.core.display.HTML object>"
      ]
     },
     "execution_count": 12,
     "metadata": {},
     "output_type": "execute_result"
    }
   ],
   "source": [
    "#Ausführen, um den aktuellen Footer anzuzeigen\n",
    "from IPython.display import HTML\n",
    "HTML(filename='files/footer.html')"
   ]
  },
  {
   "cell_type": "code",
   "execution_count": null,
   "id": "1bfa187a-1165-40ef-9c97-ee4553e1900b",
   "metadata": {},
   "outputs": [],
   "source": []
  }
 ],
 "metadata": {
  "kernelspec": {
   "display_name": "Python 3 (ipykernel)",
   "language": "python",
   "name": "python3"
  },
  "language_info": {
   "codemirror_mode": {
    "name": "ipython",
    "version": 3
   },
   "file_extension": ".py",
   "mimetype": "text/x-python",
   "name": "python",
   "nbconvert_exporter": "python",
   "pygments_lexer": "ipython3",
   "version": "3.12.3"
  }
 },
 "nbformat": 4,
 "nbformat_minor": 5
}
